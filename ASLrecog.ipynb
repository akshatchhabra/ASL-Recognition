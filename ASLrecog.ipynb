{
  "nbformat": 4,
  "nbformat_minor": 0,
  "metadata": {
    "colab": {
      "name": "MLProject.ipynb",
      "version": "0.3.2",
      "provenance": []
    },
    "kernelspec": {
      "name": "python3",
      "display_name": "Python 3"
    },
    "accelerator": "GPU"
  },
  "cells": [
    {
      "cell_type": "markdown",
      "metadata": {
        "id": "zqCeG2XhFI6O",
        "colab_type": "text"
      },
      "source": [
        "# Static ASL Recognition System\n",
        "<hr>\n",
        "<br>\n",
        "<h1> Obtaining the Dataset </h1>\n",
        "Importing the dataset from Kaggle <br>\n",
        "<a href = \"https://www.kaggle.com/datamunge/sign-language-mnist/\"> Link to the dataset </a>"
      ]
    },
    {
      "cell_type": "code",
      "metadata": {
        "id": "RtZlYZTnW2lV",
        "colab_type": "code",
        "outputId": "ef61c880-404d-426c-e400-c7bcc5cc1840",
        "colab": {
          "base_uri": "https://localhost:8080/",
          "height": 237
        }
      },
      "source": [
        "!pip install kaggle"
      ],
      "execution_count": 1,
      "outputs": [
        {
          "output_type": "stream",
          "text": [
            "Requirement already satisfied: kaggle in /usr/local/lib/python3.6/dist-packages (1.5.5)\n",
            "Requirement already satisfied: python-slugify in /usr/local/lib/python3.6/dist-packages (from kaggle) (3.0.3)\n",
            "Requirement already satisfied: certifi in /usr/local/lib/python3.6/dist-packages (from kaggle) (2019.6.16)\n",
            "Requirement already satisfied: python-dateutil in /usr/local/lib/python3.6/dist-packages (from kaggle) (2.5.3)\n",
            "Requirement already satisfied: tqdm in /usr/local/lib/python3.6/dist-packages (from kaggle) (4.28.1)\n",
            "Requirement already satisfied: six>=1.10 in /usr/local/lib/python3.6/dist-packages (from kaggle) (1.12.0)\n",
            "Requirement already satisfied: requests in /usr/local/lib/python3.6/dist-packages (from kaggle) (2.21.0)\n",
            "Requirement already satisfied: urllib3<1.25,>=1.21.1 in /usr/local/lib/python3.6/dist-packages (from kaggle) (1.24.3)\n",
            "Requirement already satisfied: text-unidecode==1.2 in /usr/local/lib/python3.6/dist-packages (from python-slugify->kaggle) (1.2)\n",
            "Requirement already satisfied: chardet<3.1.0,>=3.0.2 in /usr/local/lib/python3.6/dist-packages (from requests->kaggle) (3.0.4)\n",
            "Requirement already satisfied: idna<2.9,>=2.5 in /usr/local/lib/python3.6/dist-packages (from requests->kaggle) (2.8)\n"
          ],
          "name": "stdout"
        }
      ]
    },
    {
      "cell_type": "code",
      "metadata": {
        "id": "wdj8DN_0amnX",
        "colab_type": "code",
        "colab": {}
      },
      "source": [
        "!mkdir .kaggle"
      ],
      "execution_count": 0,
      "outputs": []
    },
    {
      "cell_type": "code",
      "metadata": {
        "id": "Sv3_AxoSay_9",
        "colab_type": "code",
        "colab": {}
      },
      "source": [
        "import json\n",
        "token = {\"username\":\"xxxxxxxxxx\",\"key\":\"xxxxxxxxxx\"}\n",
        "with open('/content/.kaggle/kaggle.json', 'w') as file:\n",
        "  json.dump(token, file)"
      ],
      "execution_count": 0,
      "outputs": []
    },
    {
      "cell_type": "code",
      "metadata": {
        "id": "-htwdQKYbKrH",
        "colab_type": "code",
        "colab": {}
      },
      "source": [
        "!cp /content/.kaggle/kaggle.json ~/.kaggle/kaggle.json"
      ],
      "execution_count": 0,
      "outputs": []
    },
    {
      "cell_type": "code",
      "metadata": {
        "id": "m81hHIP0bQwr",
        "colab_type": "code",
        "outputId": "83bdf6ba-bf7d-4cca-e953-629eb120fed7",
        "colab": {
          "base_uri": "https://localhost:8080/",
          "height": 73
        }
      },
      "source": [
        "!kaggle config set -n path -v{/content}"
      ],
      "execution_count": 9,
      "outputs": [
        {
          "output_type": "stream",
          "text": [
            "Warning: Your Kaggle API key is readable by other users on this system! To fix this, you can run 'chmod 600 /root/.kaggle/kaggle.json'\n",
            "- path is now set to: {/content}\n"
          ],
          "name": "stdout"
        }
      ]
    },
    {
      "cell_type": "code",
      "metadata": {
        "id": "FDXnoMq5bYC6",
        "colab_type": "code",
        "colab": {}
      },
      "source": [
        "!chmod 600 /root/.kaggle/kaggle.json"
      ],
      "execution_count": 0,
      "outputs": []
    },
    {
      "cell_type": "code",
      "metadata": {
        "id": "TG2pLUlHbdPn",
        "colab_type": "code",
        "outputId": "34344a7f-da39-44ee-db63-02a27392777e",
        "colab": {
          "base_uri": "https://localhost:8080/",
          "height": 437
        }
      },
      "source": [
        "!kaggle datasets list -s sign\\ language"
      ],
      "execution_count": 11,
      "outputs": [
        {
          "output_type": "stream",
          "text": [
            "ref                                                          title                                              size  lastUpdated          downloadCount  \n",
            "-----------------------------------------------------------  ------------------------------------------------  -----  -------------------  -------------  \n",
            "datamunge/sign-language-mnist                                Sign Language MNIST                                31MB  2017-10-20 15:09:18          13574  \n",
            "ardamavi/sign-language-digits-dataset                        Sign Language Digits Dataset                        8MB  2017-12-24 16:08:56           9113  \n",
            "grassknoted/asl-alphabet                                     ASL Alphabet                                        1GB  2018-04-22 19:31:36           5733  \n",
            "feronial/turkish-sign-languagefinger-spelling                Turkish Sign Language (Fingerspelling)            261MB  2018-05-16 10:04:28            157  \n",
            "ksanzid/esharalipi-bangla-sign-language-dataset              Ishara-Lipi: Bangla Sign Language Dataset           1MB  2019-08-22 04:50:46             76  \n",
            "evernext10/hand-gesture-of-the-colombian-sign-language       Hand Gesture of the Colombian sign language        11GB  2018-11-07 18:14:39            278  \n",
            "ayuraj/asl-dataset                                           American Sign Language Dataset                     28MB  2019-04-28 08:25:27            109  \n",
            "rtatman/sign-language-analyses                               The Sign Language Analyses (SLAY) Database         11KB  2017-07-13 21:19:01            212  \n",
            "ahmedkhanak1995/sign-language-gesture-images-dataset         Sign Language Gesture Images Dataset              191MB  2019-09-10 20:54:35             11  \n",
            "ayuraj/american-sign-language-dataset                        american sign language dataset                    620MB  2019-05-01 17:47:08            111  \n",
            "kuzivakwashe/significant-asl-sign-language-alphabet-dataset  Significant (ASL) Sign Language Alphabet Dataset    2GB  2019-03-02 13:20:33            204  \n",
            "mrgeislinger/asl-rgb-depth-fingerspelling-spelling-it-out    ASL Fingerspelling Images (RGB & Depth)             2GB  2019-02-18 22:22:36            596  \n",
            "saadbutt321/pakistan-sign-language-dataset                   Pakistan Sign Language Dataset                      2MB  2019-08-01 14:16:12             36  \n",
            "emresulun/sign-language-letter-images                        Sign Language Letter Images                        16MB  2019-05-11 09:24:08             28  \n",
            "rtatman/world-language-family-map                            World Language Family Map                          51MB  2017-07-20 22:48:39            594  \n",
            "amarinderplasma/alphabets-sign-language                      alphabets sign language                             1GB  2019-02-02 04:53:42             32  \n",
            "gdeekk/alphabets-sign-language                               Alphabets - Sign Language                          32MB  2018-10-21 15:31:39             47  \n",
            "thamindudilshan/sinhala-sign-language-dataset-tdj            Sinhala Sign Language Dataset - TDJ                 1GB  2019-04-24 20:18:11             31  \n",
            "alex75andra/sign-language-digit-dataset05                    Sign Language Digit dataset(0-5)                    9MB  2018-10-23 04:58:32             23  \n",
            "rtatman/world-atlas-of-language-structures                   World Atlas of Language Structures                  3MB  2017-09-07 23:40:05            479  \n"
          ],
          "name": "stdout"
        }
      ]
    },
    {
      "cell_type": "code",
      "metadata": {
        "id": "tTufV1j9bnlP",
        "colab_type": "code",
        "outputId": "956f6b19-ba5a-47e0-ef77-f39e32cfbb1f",
        "colab": {
          "base_uri": "https://localhost:8080/",
          "height": 72
        }
      },
      "source": [
        "!kaggle datasets download -d datamunge/sign-language-mnist -p /content"
      ],
      "execution_count": 12,
      "outputs": [
        {
          "output_type": "stream",
          "text": [
            "Downloading sign-language-mnist.zip to /content\n",
            "\r  0% 0.00/30.8M [00:00<?, ?B/s]\r 29% 9.00M/30.8M [00:00<00:00, 65.0MB/s]\n",
            "\r100% 30.8M/30.8M [00:00<00:00, 122MB/s] \n"
          ],
          "name": "stdout"
        }
      ]
    },
    {
      "cell_type": "code",
      "metadata": {
        "id": "NPRay5FngBWt",
        "colab_type": "code",
        "outputId": "47c6e59f-45cb-4dcf-cce7-7dfd405da30b",
        "colab": {
          "base_uri": "https://localhost:8080/",
          "height": 126
        }
      },
      "source": [
        "!unzip \\*.zip"
      ],
      "execution_count": 13,
      "outputs": [
        {
          "output_type": "stream",
          "text": [
            "Archive:  sign-language-mnist.zip\n",
            "  inflating: amer_sign2.png          \n",
            "  inflating: amer_sign3.png          \n",
            "  inflating: american_sign_language.PNG  \n",
            "  inflating: sign_mnist_test.csv     \n",
            "  inflating: sign_mnist_train.csv    \n"
          ],
          "name": "stdout"
        }
      ]
    },
    {
      "cell_type": "markdown",
      "metadata": {
        "id": "Nd9xQ5-BLEWO",
        "colab_type": "text"
      },
      "source": [
        "# Building Model and Training\n",
        "The CNN has the following layers:\n",
        "<ul>\n",
        "<li>3 Convolution Layers </li>\n",
        "<li>2 MaxPooling Layers</li>\n",
        "<li>3 Dense Layers</li>\n",
        "<li>Dropout added to prevent overfitting</li>\n",
        "</ul>"
      ]
    },
    {
      "cell_type": "code",
      "metadata": {
        "id": "J_oNo5raGSta",
        "colab_type": "code",
        "colab": {
          "base_uri": "https://localhost:8080/",
          "height": 35
        },
        "outputId": "b9492028-074c-465d-8945-c033f8a656f1"
      },
      "source": [
        "import pandas as pd\n",
        "import numpy as np\n",
        "import matplotlib.cm as cm\n",
        "import matplotlib.pyplot as plt\n",
        "import tensorflow as tf\n",
        "import keras\n",
        "from keras.models import Sequential\n",
        "from keras.layers import Dense,Dropout,Flatten\n",
        "from keras.layers import Conv2D,MaxPooling2D,GlobalAveragePooling2D,Activation,Convolution2D,BatchNormalization\n",
        "from keras.utils import to_categorical\n",
        "from keras.preprocessing import image\n",
        "from sklearn.model_selection import train_test_split\n",
        "from keras.utils import to_categorical\n",
        "from tqdm import tqdm"
      ],
      "execution_count": 14,
      "outputs": [
        {
          "output_type": "stream",
          "text": [
            "Using TensorFlow backend.\n"
          ],
          "name": "stderr"
        }
      ]
    },
    {
      "cell_type": "code",
      "metadata": {
        "id": "QpttYkn1VpON",
        "colab_type": "code",
        "colab": {}
      },
      "source": [
        "train = pd.read_csv('sign_mnist_train.csv', header=0)\n",
        "test = pd.read_csv('sign_mnist_test.csv',header=0)\n",
        "\n",
        "y_train = train['label'].values\n",
        "y_test = test['label'].values\n",
        "\n",
        "X_train = train.drop(['label'],axis=1)\n",
        "X_test = test.drop(['label'], axis=1)\n",
        "\n",
        "X_train = np.array(X_train.iloc[:,:])\n",
        "X_train = np.array([np.reshape(i, (28,28)) for i in X_train])\n",
        "\n",
        "X_test = np.array(X_test.iloc[:,:])\n",
        "X_test = np.array([np.reshape(i, (28,28)) for i in X_test])\n",
        "\n",
        "num_classes = 26\n",
        "y_train = np.array(y_train).reshape(-1)\n",
        "y_test = np.array(y_test).reshape(-1)\n",
        "\n",
        "y_train = np.eye(num_classes)[y_train]\n",
        "y_test = np.eye(num_classes)[y_test]"
      ],
      "execution_count": 0,
      "outputs": []
    },
    {
      "cell_type": "code",
      "metadata": {
        "id": "S6E75a85dS_h",
        "colab_type": "code",
        "colab": {
          "base_uri": "https://localhost:8080/",
          "height": 1000
        },
        "outputId": "10eb87a8-f188-4b2f-b6f5-843285f4a17e"
      },
      "source": [
        "X_train[0]"
      ],
      "execution_count": 16,
      "outputs": [
        {
          "output_type": "execute_result",
          "data": {
            "text/plain": [
              "array([[107, 118, 127, 134, 139, 143, 146, 150, 153, 156, 158, 160, 163,\n",
              "        165, 159, 166, 168, 170, 170, 171, 171, 171, 172, 171, 171, 170,\n",
              "        170, 169],\n",
              "       [111, 121, 129, 135, 141, 144, 148, 151, 154, 157, 160, 163, 164,\n",
              "        170, 119, 152, 171, 171, 170, 171, 172, 172, 172, 172, 172, 171,\n",
              "        171, 170],\n",
              "       [113, 123, 131, 137, 142, 145, 150, 152, 155, 158, 161, 163, 164,\n",
              "        172, 105, 142, 170, 171, 171, 171, 172, 172, 173, 173, 172, 171,\n",
              "        171, 171],\n",
              "       [116, 125, 133, 139, 143, 146, 151, 153, 156, 159, 162, 163, 167,\n",
              "        167,  95, 144, 171, 172, 172, 172, 172, 172, 173, 173, 173, 172,\n",
              "        172, 171],\n",
              "       [117, 126, 134, 140, 145, 149, 153, 156, 158, 161, 163, 164, 175,\n",
              "        156,  87, 154, 172, 173, 173, 173, 173, 173, 174, 174, 174, 173,\n",
              "        172, 172],\n",
              "       [119, 128, 136, 142, 146, 150, 153, 156, 159, 163, 165, 164, 184,\n",
              "        148,  89, 164, 172, 174, 174, 174, 174, 175, 175, 174, 175, 174,\n",
              "        173, 173],\n",
              "       [122, 130, 138, 143, 147, 150, 154, 158, 162, 165, 166, 172, 181,\n",
              "        128,  94, 170, 173, 175, 174, 175, 176, 177, 177, 177, 177, 175,\n",
              "        175, 174],\n",
              "       [122, 132, 139, 145, 149, 152, 156, 160, 163, 165, 166, 181, 172,\n",
              "        103, 113, 175, 176, 178, 178, 179, 179, 179, 179, 178, 179, 177,\n",
              "        175, 174],\n",
              "       [125, 134, 141, 147, 150, 153, 157, 161, 164, 167, 168, 184, 179,\n",
              "        116, 126, 165, 176, 179, 180, 180, 181, 180, 180, 180, 179, 178,\n",
              "        177, 176],\n",
              "       [128, 135, 142, 148, 152, 154, 158, 162, 165, 168, 170, 187, 180,\n",
              "        156, 161, 124, 143, 179, 178, 178, 181, 182, 181, 180, 181, 180,\n",
              "        179, 179],\n",
              "       [129, 136, 144, 150, 153, 155, 159, 163, 166, 169, 172, 187, 184,\n",
              "        153, 102, 117, 110, 175, 169, 154, 182, 183, 183, 182, 182, 181,\n",
              "        181, 179],\n",
              "       [131, 138, 145, 150, 155, 157, 161, 165, 168, 174, 190, 189, 175,\n",
              "        146,  94,  97, 113, 151, 158, 129, 184, 184, 184, 184, 183, 183,\n",
              "        182, 180],\n",
              "       [131, 139, 146, 151, 155, 159, 163, 167, 175, 182, 179, 171, 159,\n",
              "        114, 102,  89, 121, 136, 136,  96, 172, 186, 186, 185, 185, 184,\n",
              "        182, 181],\n",
              "       [131, 140, 147, 154, 157, 160, 164, 179, 186, 191, 187, 180, 157,\n",
              "        100,  88,  84, 108, 111, 126,  90, 120, 186, 187, 187, 186, 185,\n",
              "        184, 182],\n",
              "       [133, 141, 149, 155, 158, 160, 174, 201, 189, 165, 151, 143, 146,\n",
              "        120,  87,  78,  87,  76, 108,  98,  96, 181, 188, 187, 186, 186,\n",
              "        185, 183],\n",
              "       [133, 141, 150, 156, 160, 161, 179, 197, 174, 135,  99,  72,  95,\n",
              "        134,  97,  72,  74,  68, 116, 105, 108, 187, 189, 187, 187, 186,\n",
              "        186, 185],\n",
              "       [134, 143, 151, 156, 161, 163, 179, 194, 156, 110,  74,  42,  52,\n",
              "        139,  94,  67,  75,  75, 118, 106, 129, 189, 191, 190, 188, 188,\n",
              "        187, 186],\n",
              "       [135, 144, 152, 158, 163, 163, 177, 193, 161, 122,  84,  43,  71,\n",
              "        134,  81,  57,  71,  88, 112,  98, 157, 193, 193, 192, 190, 190,\n",
              "        189, 188],\n",
              "       [136, 144, 152, 158, 162, 163, 176, 192, 164, 128,  98,  62,  60,\n",
              "        100,  71,  76,  96, 101, 105,  95, 174, 195, 194, 194, 194, 193,\n",
              "        191, 190],\n",
              "       [137, 145, 152, 159, 164, 165, 178, 191, 164, 135, 113,  82,  59,\n",
              "         87,  98, 111, 120, 108,  97, 108, 190, 196, 195, 195, 194, 193,\n",
              "        193, 192],\n",
              "       [139, 146, 154, 160, 164, 165, 175, 186, 163, 139, 112,  85,  67,\n",
              "        102, 126, 133, 126, 105, 104, 176, 197, 198, 197, 196, 195, 195,\n",
              "        194, 193],\n",
              "       [138, 147, 155, 161, 165, 167, 172, 186, 163, 137, 107,  87,  76,\n",
              "        106, 122, 125, 117,  96, 156, 199, 199, 200, 198, 196, 196, 195,\n",
              "        195, 194],\n",
              "       [139, 148, 156, 163, 166, 168, 172, 180, 158, 131, 108,  99,  86,\n",
              "        108, 118, 116, 103, 107, 191, 202, 201, 200, 200, 200, 199, 197,\n",
              "        198, 196],\n",
              "       [140, 149, 157, 164, 168, 167, 177, 178, 155, 131, 118, 105,  87,\n",
              "        100, 106, 100,  96, 164, 202, 202, 202, 202, 202, 201, 200, 199,\n",
              "        199, 198],\n",
              "       [140, 150, 157, 165, 167, 170, 181, 175, 152, 130, 115,  98,  82,\n",
              "         85,  90,  99, 165, 202, 203, 204, 203, 203, 202, 202, 201, 201,\n",
              "        200, 200],\n",
              "       [142, 150, 159, 165, 170, 191, 173, 157, 144, 119,  97,  84,  79,\n",
              "         79,  91, 172, 202, 203, 203, 205, 204, 204, 204, 203, 202, 202,\n",
              "        201, 200],\n",
              "       [142, 151, 160, 165, 188, 190, 187, 150, 119, 109,  85,  79,  79,\n",
              "         78, 137, 203, 205, 206, 206, 207, 207, 206, 206, 204, 205, 204,\n",
              "        203, 202],\n",
              "       [142, 151, 160, 172, 196, 188, 188, 190, 135,  96,  86,  77,  77,\n",
              "         79, 176, 205, 207, 207, 207, 207, 207, 207, 206, 206, 206, 204,\n",
              "        203, 202]])"
            ]
          },
          "metadata": {
            "tags": []
          },
          "execution_count": 16
        }
      ]
    },
    {
      "cell_type": "code",
      "metadata": {
        "id": "ErEEhaMB68Ig",
        "colab_type": "code",
        "outputId": "607cc115-54b3-49a3-d04f-20301dcbf0fe",
        "colab": {
          "base_uri": "https://localhost:8080/",
          "height": 269
        }
      },
      "source": [
        "plt.imshow(X_train[0])\n",
        "plt.show()"
      ],
      "execution_count": 17,
      "outputs": [
        {
          "output_type": "display_data",
          "data": {
            "image/png": "[encoded data removed]",
            "text/plain": [
              "<Figure size 432x288 with 1 Axes>"
            ]
          },
          "metadata": {
            "tags": []
          }
        }
      ]
    },
    {
      "cell_type": "code",
      "metadata": {
        "id": "RJvED6ioiWGE",
        "colab_type": "code",
        "colab": {
          "base_uri": "https://localhost:8080/",
          "height": 126
        },
        "outputId": "ae10265b-0b64-42ef-e602-2e9bc8f19dd4"
      },
      "source": [
        "print('Training examples:',X_train.shape[0])\n",
        "print('Test examples:',X_test.shape[0])\n",
        "\n",
        "print('X_train shape\"',X_train.shape)\n",
        "print('y_train shape\"',y_train.shape)\n",
        "print('X_test shape\"',X_test.shape)\n",
        "print('y_test shape\"',y_test.shape)"
      ],
      "execution_count": 18,
      "outputs": [
        {
          "output_type": "stream",
          "text": [
            "Training examples: 27455\n",
            "Test examples: 7172\n",
            "X_train shape\" (27455, 28, 28)\n",
            "y_train shape\" (27455, 26)\n",
            "X_test shape\" (7172, 28, 28)\n",
            "y_test shape\" (7172, 26)\n"
          ],
          "name": "stdout"
        }
      ]
    },
    {
      "cell_type": "code",
      "metadata": {
        "id": "DxvCRaHHgFEM",
        "colab_type": "code",
        "colab": {}
      },
      "source": [
        "X_train = X_train.reshape((27455, 28, 28, 1))\n",
        "X_test = X_test.reshape((7172, 28, 28, 1))"
      ],
      "execution_count": 0,
      "outputs": []
    },
    {
      "cell_type": "markdown",
      "metadata": {
        "id": "YXOU4xMAYglO",
        "colab_type": "text"
      },
      "source": [
        "# Building the CNN model"
      ]
    },
    {
      "cell_type": "code",
      "metadata": {
        "id": "suy8XWNy7Ur7",
        "colab_type": "code",
        "colab": {}
      },
      "source": [
        "keras.backend.clear_session()"
      ],
      "execution_count": 0,
      "outputs": []
    },
    {
      "cell_type": "code",
      "metadata": {
        "id": "thhrr8e2S4l0",
        "colab_type": "code",
        "colab": {}
      },
      "source": [
        "model = Sequential()\n",
        "model.add(Conv2D(32, kernel_size=(3, 3),activation='relu',\n",
        "                 input_shape=(28,28,1)))\n",
        "\n",
        "model.add(Conv2D(64, (3, 3), activation='relu'))\n",
        "model.add(MaxPooling2D(pool_size=(2, 2)))\n",
        "model.add(BatchNormalization())\n",
        "\n",
        "model.add(Conv2D(128, (3, 3), activation='relu'))\n",
        "model.add(MaxPooling2D(pool_size=(2, 2)))\n",
        "model.add(Dropout(0.25))\n",
        "\n",
        "model.add(Flatten())\n",
        "model.add(Dense(256, activation='relu'))\n",
        "model.add(Dropout(0.5))\n",
        "\n",
        "model.add(Dense(128, activation='relu'))\n",
        "model.add(Dropout(0.5))\n",
        "\n",
        "model.add(Dense(26, activation='softmax'))\n",
        "model.compile(loss='categorical_crossentropy',optimizer='Adam',metrics=['accuracy'])"
      ],
      "execution_count": 0,
      "outputs": []
    },
    {
      "cell_type": "code",
      "metadata": {
        "id": "ZAwam_vocQPw",
        "colab_type": "code",
        "colab": {
          "base_uri": "https://localhost:8080/",
          "height": 635
        },
        "outputId": "cf663c06-ec2c-4348-b295-c1dffd970007"
      },
      "source": [
        "model.summary()"
      ],
      "execution_count": 26,
      "outputs": [
        {
          "output_type": "stream",
          "text": [
            "Model: \"sequential_2\"\n",
            "_________________________________________________________________\n",
            "Layer (type)                 Output Shape              Param #   \n",
            "=================================================================\n",
            "conv2d_4 (Conv2D)            (None, 26, 26, 32)        320       \n",
            "_________________________________________________________________\n",
            "conv2d_5 (Conv2D)            (None, 24, 24, 64)        18496     \n",
            "_________________________________________________________________\n",
            "max_pooling2d_3 (MaxPooling2 (None, 12, 12, 64)        0         \n",
            "_________________________________________________________________\n",
            "batch_normalization_2 (Batch (None, 12, 12, 64)        256       \n",
            "_________________________________________________________________\n",
            "conv2d_6 (Conv2D)            (None, 10, 10, 128)       73856     \n",
            "_________________________________________________________________\n",
            "max_pooling2d_4 (MaxPooling2 (None, 5, 5, 128)         0         \n",
            "_________________________________________________________________\n",
            "dropout_4 (Dropout)          (None, 5, 5, 128)         0         \n",
            "_________________________________________________________________\n",
            "flatten_2 (Flatten)          (None, 3200)              0         \n",
            "_________________________________________________________________\n",
            "dense_4 (Dense)              (None, 256)               819456    \n",
            "_________________________________________________________________\n",
            "dropout_5 (Dropout)          (None, 256)               0         \n",
            "_________________________________________________________________\n",
            "dense_5 (Dense)              (None, 128)               32896     \n",
            "_________________________________________________________________\n",
            "dropout_6 (Dropout)          (None, 128)               0         \n",
            "_________________________________________________________________\n",
            "dense_6 (Dense)              (None, 26)                3354      \n",
            "=================================================================\n",
            "Total params: 948,634\n",
            "Trainable params: 948,506\n",
            "Non-trainable params: 128\n",
            "_________________________________________________________________\n"
          ],
          "name": "stdout"
        }
      ]
    },
    {
      "cell_type": "markdown",
      "metadata": {
        "id": "fNdJK5tVJUsg",
        "colab_type": "text"
      },
      "source": [
        "#Training\n",
        "The model is trained for 50 epochs"
      ]
    },
    {
      "cell_type": "code",
      "metadata": {
        "id": "jxyZahnQb-HU",
        "colab_type": "code",
        "colab": {
          "base_uri": "https://localhost:8080/",
          "height": 1000
        },
        "outputId": "767d7fa1-d52c-4dd8-af73-871c8b18beb9"
      },
      "source": [
        "model.fit(X_train, y_train, batch_size = 50, epochs = 50)\n",
        "y_pred = model.predict(X_test)"
      ],
      "execution_count": 25,
      "outputs": [
        {
          "output_type": "stream",
          "text": [
            "Epoch 1/50\n",
            "27455/27455 [==============================] - 4s 158us/step - loss: 0.1764 - acc: 0.9458\n",
            "Epoch 2/50\n",
            "27455/27455 [==============================] - 4s 152us/step - loss: 0.1221 - acc: 0.9606\n",
            "Epoch 3/50\n",
            "27455/27455 [==============================] - 4s 153us/step - loss: 0.0916 - acc: 0.9704\n",
            "Epoch 4/50\n",
            "27455/27455 [==============================] - 4s 152us/step - loss: 0.0870 - acc: 0.9741\n",
            "Epoch 5/50\n",
            "27455/27455 [==============================] - 4s 153us/step - loss: 0.0789 - acc: 0.9761\n",
            "Epoch 6/50\n",
            "27455/27455 [==============================] - 4s 155us/step - loss: 0.0689 - acc: 0.9795\n",
            "Epoch 7/50\n",
            "27455/27455 [==============================] - 4s 154us/step - loss: 0.0648 - acc: 0.9818\n",
            "Epoch 8/50\n",
            "27455/27455 [==============================] - 4s 155us/step - loss: 0.0564 - acc: 0.9836\n",
            "Epoch 9/50\n",
            "27455/27455 [==============================] - 4s 155us/step - loss: 0.0446 - acc: 0.9859\n",
            "Epoch 10/50\n",
            "27455/27455 [==============================] - 4s 155us/step - loss: 0.0490 - acc: 0.9863\n",
            "Epoch 11/50\n",
            "27455/27455 [==============================] - 4s 157us/step - loss: 0.0521 - acc: 0.9863\n",
            "Epoch 12/50\n",
            "27455/27455 [==============================] - 4s 156us/step - loss: 0.0411 - acc: 0.9885\n",
            "Epoch 13/50\n",
            "27455/27455 [==============================] - 4s 156us/step - loss: 0.0425 - acc: 0.9887\n",
            "Epoch 14/50\n",
            "27455/27455 [==============================] - 4s 153us/step - loss: 0.0444 - acc: 0.9875\n",
            "Epoch 15/50\n",
            "27455/27455 [==============================] - 4s 152us/step - loss: 0.0422 - acc: 0.9892\n",
            "Epoch 16/50\n",
            "27455/27455 [==============================] - 4s 153us/step - loss: 0.0375 - acc: 0.9905\n",
            "Epoch 17/50\n",
            "27455/27455 [==============================] - 4s 153us/step - loss: 0.0318 - acc: 0.9913\n",
            "Epoch 18/50\n",
            "27455/27455 [==============================] - 4s 153us/step - loss: 0.0381 - acc: 0.9907\n",
            "Epoch 19/50\n",
            "27455/27455 [==============================] - 4s 154us/step - loss: 0.0476 - acc: 0.9890\n",
            "Epoch 20/50\n",
            "27455/27455 [==============================] - 4s 153us/step - loss: 0.0231 - acc: 0.9938\n",
            "Epoch 21/50\n",
            "27455/27455 [==============================] - 4s 152us/step - loss: 0.0321 - acc: 0.9916\n",
            "Epoch 22/50\n",
            "27455/27455 [==============================] - 4s 153us/step - loss: 0.0290 - acc: 0.9930\n",
            "Epoch 23/50\n",
            "27455/27455 [==============================] - 4s 155us/step - loss: 0.0284 - acc: 0.9932\n",
            "Epoch 24/50\n",
            "27455/27455 [==============================] - 4s 153us/step - loss: 0.0279 - acc: 0.9936\n",
            "Epoch 25/50\n",
            "27455/27455 [==============================] - 4s 152us/step - loss: 0.0284 - acc: 0.9933\n",
            "Epoch 26/50\n",
            "27455/27455 [==============================] - 4s 153us/step - loss: 0.0293 - acc: 0.9932\n",
            "Epoch 27/50\n",
            "27455/27455 [==============================] - 4s 153us/step - loss: 0.0251 - acc: 0.9940\n",
            "Epoch 28/50\n",
            "27455/27455 [==============================] - 4s 153us/step - loss: 0.0278 - acc: 0.9942\n",
            "Epoch 29/50\n",
            "27455/27455 [==============================] - 4s 154us/step - loss: 0.0191 - acc: 0.9952\n",
            "Epoch 30/50\n",
            "27455/27455 [==============================] - 4s 154us/step - loss: 0.0203 - acc: 0.9951\n",
            "Epoch 31/50\n",
            "27455/27455 [==============================] - 4s 154us/step - loss: 0.0281 - acc: 0.9940\n",
            "Epoch 32/50\n",
            "27455/27455 [==============================] - 4s 153us/step - loss: 0.0234 - acc: 0.9950\n",
            "Epoch 33/50\n",
            "27455/27455 [==============================] - 4s 154us/step - loss: 0.0264 - acc: 0.9944\n",
            "Epoch 34/50\n",
            "27455/27455 [==============================] - 4s 154us/step - loss: 0.0298 - acc: 0.9941\n",
            "Epoch 35/50\n",
            "27455/27455 [==============================] - 4s 154us/step - loss: 0.0202 - acc: 0.9956\n",
            "Epoch 36/50\n",
            "27455/27455 [==============================] - 4s 152us/step - loss: 0.0136 - acc: 0.9966\n",
            "Epoch 37/50\n",
            "27455/27455 [==============================] - 4s 152us/step - loss: 0.0135 - acc: 0.9971\n",
            "Epoch 38/50\n",
            "27455/27455 [==============================] - 4s 152us/step - loss: 0.0378 - acc: 0.9932\n",
            "Epoch 39/50\n",
            "27455/27455 [==============================] - 4s 154us/step - loss: 0.0207 - acc: 0.9958\n",
            "Epoch 40/50\n",
            "27455/27455 [==============================] - 4s 151us/step - loss: 0.0226 - acc: 0.9958\n",
            "Epoch 41/50\n",
            "27455/27455 [==============================] - 4s 152us/step - loss: 0.0179 - acc: 0.9966\n",
            "Epoch 42/50\n",
            "27455/27455 [==============================] - 4s 154us/step - loss: 0.0287 - acc: 0.9944\n",
            "Epoch 43/50\n",
            "27455/27455 [==============================] - 4s 152us/step - loss: 0.0208 - acc: 0.9960\n",
            "Epoch 44/50\n",
            "27455/27455 [==============================] - 4s 152us/step - loss: 0.0217 - acc: 0.9960\n",
            "Epoch 45/50\n",
            "27455/27455 [==============================] - 4s 152us/step - loss: 0.0185 - acc: 0.9963\n",
            "Epoch 46/50\n",
            "27455/27455 [==============================] - 4s 152us/step - loss: 0.0206 - acc: 0.9959\n",
            "Epoch 47/50\n",
            "27455/27455 [==============================] - 4s 153us/step - loss: 0.0204 - acc: 0.9957\n",
            "Epoch 48/50\n",
            "27455/27455 [==============================] - 4s 154us/step - loss: 0.0190 - acc: 0.9967\n",
            "Epoch 49/50\n",
            "27455/27455 [==============================] - 4s 152us/step - loss: 0.0240 - acc: 0.9958\n",
            "Epoch 50/50\n",
            "27455/27455 [==============================] - 4s 154us/step - loss: 0.0240 - acc: 0.9954\n"
          ],
          "name": "stdout"
        }
      ]
    },
    {
      "cell_type": "markdown",
      "metadata": {
        "id": "tArPKxvwJxDY",
        "colab_type": "text"
      },
      "source": [
        "# Testing"
      ]
    },
    {
      "cell_type": "code",
      "metadata": {
        "id": "A2Au3j4-jOtF",
        "colab_type": "code",
        "colab": {
          "base_uri": "https://localhost:8080/",
          "height": 35
        },
        "outputId": "fc9a4bad-4265-4b12-8b6d-25ecdd02ffa5"
      },
      "source": [
        "y_pred = model.predict(X_test)\n",
        "y_pred = np.argmax(y_pred, axis=1)\n",
        "y_pred"
      ],
      "execution_count": 27,
      "outputs": [
        {
          "output_type": "execute_result",
          "data": {
            "text/plain": [
              "array([ 6,  5, 10, ...,  2,  4,  2])"
            ]
          },
          "metadata": {
            "tags": []
          },
          "execution_count": 27
        }
      ]
    },
    {
      "cell_type": "code",
      "metadata": {
        "id": "-wZOMwC7juLG",
        "colab_type": "code",
        "colab": {
          "base_uri": "https://localhost:8080/",
          "height": 35
        },
        "outputId": "de5a2d4d-f345-4d7e-c9b8-4138639a28a1"
      },
      "source": [
        "y_test = np.array(test['label'].values)\n",
        "y_test\n",
        "from sklearn.metrics import accuracy_score\n",
        "accuracy_score(y_test, y_pred)"
      ],
      "execution_count": 28,
      "outputs": [
        {
          "output_type": "execute_result",
          "data": {
            "text/plain": [
              "0.9605409927495817"
            ]
          },
          "metadata": {
            "tags": []
          },
          "execution_count": 28
        }
      ]
    },
    {
      "cell_type": "markdown",
      "metadata": {
        "id": "05CdnASqJf-h",
        "colab_type": "text"
      },
      "source": [
        "**The Model achieves an accuracy of 96.05% on the dataset**"
      ]
    }
  ]
}